{
 "cells": [
  {
   "cell_type": "code",
   "execution_count": 51,
   "metadata": {},
   "outputs": [],
   "source": [
    "from PIL import Image\n",
    "\n",
    "import json\n",
    "import cv2 \n",
    "import os\n",
    "from os import path\n",
    "\n",
    "#reading from json file\n",
    "point=[]\n",
    "labels=[]\n",
    "#extracting labels and points\n",
    "with open('0_21_0.json',encoding=\"utf8\") as json_file:\n",
    "    data = json.load(json_file)\n",
    "    for p in data['shapes']:\n",
    "        point.append(p['points'])\n",
    "        labels.append(p['label'])\n",
    "        \n",
    "\n",
    "\n",
    "#reading images\n",
    "img = Image.open(\"0_21_0.jpg\")\n",
    "\n",
    "#initializing a empty list\n",
    "arr=[]\n",
    "\n",
    "#extracting area values from the json file\n",
    "for index in range(len(labels)):\n",
    "    for i in range(len(point[index])):\n",
    "        for j in range(len (point[0][0])):\n",
    "            arr.append((point[index][i][j]))\n",
    "    area = (arr[0],arr[1],arr[2],arr[3])\n",
    "    arr=[]\n",
    "    \n",
    "    #cropping image\n",
    "    cropped_img = img.crop(area)\n",
    "            \n",
    "    #renaming the cropped img\n",
    "    crop_rename =str(labels[index])+'.jpg'\n",
    "    \n",
    "    \n",
    "    #saving in a manual img directory            \n",
    "    img_dir = path.join('C:/Users/monsur/Desktop/croppingimage/cropped/',crop_rename)\n",
    "    cropped_img = cropped_img.save(img_dir)\n",
    "            \n",
    "           \n",
    "\n",
    "            \n"
   ]
  },
  {
   "cell_type": "code",
   "execution_count": null,
   "metadata": {},
   "outputs": [],
   "source": []
  }
 ],
 "metadata": {
  "kernelspec": {
   "display_name": "Python 3",
   "language": "python",
   "name": "python3"
  },
  "language_info": {
   "codemirror_mode": {
    "name": "ipython",
    "version": 3
   },
   "file_extension": ".py",
   "mimetype": "text/x-python",
   "name": "python",
   "nbconvert_exporter": "python",
   "pygments_lexer": "ipython3",
   "version": "3.6.12"
  }
 },
 "nbformat": 4,
 "nbformat_minor": 4
}
